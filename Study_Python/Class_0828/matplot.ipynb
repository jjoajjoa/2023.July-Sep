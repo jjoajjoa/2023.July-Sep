{
 "cells": [
  {
   "cell_type": "code",
   "execution_count": 2,
   "id": "3b083bff",
   "metadata": {},
   "outputs": [],
   "source": [
    "import matplotlib.pyplot as plt"
   ]
  },
  {
   "cell_type": "code",
   "execution_count": 3,
   "id": "8d275bab",
   "metadata": {},
   "outputs": [],
   "source": [
    "data = [10, 14, 19, 20, 25]"
   ]
  },
  {
   "cell_type": "code",
   "execution_count": 4,
   "id": "21a76600",
   "metadata": {
    "scrolled": true
   },
   "outputs": [
    {
     "data": {
      "text/plain": [
       "[<matplotlib.lines.Line2D at 0x1b660ffb3d0>]"
      ]
     },
     "execution_count": 4,
     "metadata": {},
     "output_type": "execute_result"
    }
   ],
   "source": [
    "plt.plot(data)"
   ]
  },
  {
   "cell_type": "code",
   "execution_count": 5,
   "id": "5481541a",
   "metadata": {},
   "outputs": [],
   "source": [
    "plt.plot(data)\n",
    "plt.show()"
   ]
  },
  {
   "cell_type": "code",
   "execution_count": 6,
   "id": "6910be1a",
   "metadata": {},
   "outputs": [],
   "source": [
    "%matplotlib qt"
   ]
  },
  {
   "cell_type": "code",
   "execution_count": 7,
   "id": "aa62d2d8",
   "metadata": {},
   "outputs": [],
   "source": [
    "plt.plot(data)\n",
    "plt.show()"
   ]
  },
  {
   "cell_type": "code",
   "execution_count": 9,
   "id": "7304f89e",
   "metadata": {},
   "outputs": [],
   "source": [
    "%matplotlib inline"
   ]
  },
  {
   "cell_type": "code",
   "execution_count": 10,
   "id": "b6d6b535",
   "metadata": {},
   "outputs": [
    {
     "data": {
      "image/png": "[encoded data removed]",
      "text/plain": [
       "<Figure size 640x480 with 1 Axes>"
      ]
     },
     "metadata": {},
     "output_type": "display_data"
    }
   ],
   "source": [
    "plt.plot(data)\n",
    "plt.show()"
   ]
  },
  {
   "cell_type": "code",
   "execution_count": 13,
   "id": "a9a2d3c9",
   "metadata": {},
   "outputs": [
    {
     "data": {
      "text/plain": [
       "[array([-4.5, -4. , -3.5, -3. , -2.5, -2. , -1.5, -1. , -0.5,  0. ,  0.5,\n",
       "         1. ,  1.5,  2. ,  2.5,  3. ,  3.5,  4. ,  4.5]),\n",
       " array([40.5, 32. , 24.5, 18. , 12.5,  8. ,  4.5,  2. ,  0.5,  0. ,  0.5,\n",
       "         2. ,  4.5,  8. , 12.5, 18. , 24.5, 32. , 40.5])]"
      ]
     },
     "execution_count": 13,
     "metadata": {},
     "output_type": "execute_result"
    }
   ],
   "source": [
    "import numpy as np\n",
    "x = np.arange(-4.5, 5, 0.5)\n",
    "y = 2*x**2\n",
    "[x, y]"
   ]
  },
  {
   "cell_type": "code",
   "execution_count": 14,
   "id": "0ddd07d3",
   "metadata": {},
   "outputs": [],
   "source": [
    "plt.plot(x, y)\n",
    "plt.show()"
   ]
  },
  {
   "cell_type": "code",
   "execution_count": 15,
   "id": "79a3cd6e",
   "metadata": {},
   "outputs": [],
   "source": [
    "x = np.arange(-4.5,5,0.5)\n",
    "y1 = 2*x**2\n",
    "y2 = 5*x + 30\n",
    "y3 = 1/2*x**3 - 10"
   ]
  },
  {
   "cell_type": "code",
   "execution_count": 16,
   "id": "3e4b7d5e",
   "metadata": {},
   "outputs": [],
   "source": [
    "plt.plot(x, y1)\n",
    "plt.plot(x, y2)\n",
    "plt.plot(x, y3)\n",
    "plt.show()"
   ]
  },
  {
   "cell_type": "code",
   "execution_count": 17,
   "id": "44ade9ec",
   "metadata": {},
   "outputs": [],
   "source": [
    "plt.plot(x, y1, x, y2, x, y3)\n",
    "plt.show()"
   ]
  },
  {
   "cell_type": "code",
   "execution_count": 20,
   "id": "eff9480f",
   "metadata": {},
   "outputs": [],
   "source": [
    "plt.plot(x, y1)\n",
    "\n",
    "plt.figure()\n",
    "plt.plot(x, y2)\n",
    "plt.show()"
   ]
  },
  {
   "cell_type": "code",
   "execution_count": 23,
   "id": "44c083f7",
   "metadata": {},
   "outputs": [
    {
     "data": {
      "text/plain": [
       "[<matplotlib.lines.Line2D at 0x1b6652edd50>]"
      ]
     },
     "execution_count": 23,
     "metadata": {},
     "output_type": "execute_result"
    }
   ],
   "source": [
    "x = np.arange(-5, 5, 0.1)\n",
    "y1 = x**2-2\n",
    "y2 = 20*np.cos(x)**2\n",
    "\n",
    "plt.figure(1)\n",
    "plt.plot(x, y1)\n",
    "\n",
    "plt.figure(2)\n",
    "plt.plot(x, y2)\n",
    "\n",
    "plt.figure(1)\n",
    "plt.plot(x, y2)\n",
    "\n",
    "plt.figure(2)\n",
    "plt.clf() \n",
    "plt.plot(x, y1)"
   ]
  },
  {
   "cell_type": "code",
   "execution_count": 25,
   "id": "a729261d",
   "metadata": {},
   "outputs": [],
   "source": [
    "x = np.arange(0, 10 ,0.1)\n",
    "y1 = 0.3*(x-5)**2 + 1\n",
    "y2 = -1.5*x + 3\n",
    "y3 = np.sin(x)**2\n",
    "y4 = 10*np.exp(-x) + 1"
   ]
  },
  {
   "cell_type": "code",
   "execution_count": 26,
   "id": "12306c86",
   "metadata": {},
   "outputs": [
    {
     "data": {
      "text/plain": [
       "[<matplotlib.lines.Line2D at 0x1b6615b6750>]"
      ]
     },
     "execution_count": 26,
     "metadata": {},
     "output_type": "execute_result"
    }
   ],
   "source": [
    "plt.subplot(2,2,1)\n",
    "plt.plot(x, y1)\n",
    "\n",
    "plt.subplot(2,2,2)\n",
    "plt.plot(x, y2)\n",
    "\n",
    "plt.subplot(2,2,3)\n",
    "plt.plot(x, y3)\n",
    "\n",
    "plt.subplot(2,2,4)\n",
    "plt.plot(x, y4)"
   ]
  },
  {
   "cell_type": "code",
   "execution_count": 30,
   "id": "365933df",
   "metadata": {},
   "outputs": [],
   "source": [
    "x = np.linspace(-4, 4, 100)\n",
    "y1 = x**3\n",
    "y2 = 10*x**2-2\n",
    "\n",
    "plt.plot(x,y1,x,y2)\n",
    "plt.xlim(-5, 5)\n",
    "plt.ylim(-100, 100)\n",
    "plt.show()"
   ]
  },
  {
   "cell_type": "code",
   "execution_count": 31,
   "id": "74afcfd7",
   "metadata": {},
   "outputs": [],
   "source": [
    "x = np.arange(0, 5, 1)\n",
    "y1 = x\n",
    "y2 = x+1\n",
    "y3 = x+2\n",
    "y4 = x+3"
   ]
  },
  {
   "cell_type": "code",
   "execution_count": 33,
   "id": "1a5a81a7",
   "metadata": {},
   "outputs": [],
   "source": [
    "plt.plot(x, y1, 'm', x, y2, 'y', x,y3, 'k', x,y4, 'b')\n",
    "plt.show()"
   ]
  },
  {
   "cell_type": "code",
   "execution_count": 34,
   "id": "8546bf8a",
   "metadata": {},
   "outputs": [],
   "source": [
    "plt.plot(x, y1, '-', x, y2, '--', x,y3, ':', x,y4, '-.')\n",
    "plt.show()"
   ]
  },
  {
   "cell_type": "code",
   "execution_count": 35,
   "id": "3ab1bc6b",
   "metadata": {},
   "outputs": [],
   "source": [
    "plt.plot(x, y1, 'o', x, y2, '^', x,y3, 's', x,y4, 'd')\n",
    "plt.show()"
   ]
  },
  {
   "cell_type": "code",
   "execution_count": 36,
   "id": "c5128832",
   "metadata": {},
   "outputs": [],
   "source": [
    "plt.plot(x, y1, '>--r', x, y2, 's-g', x,y3, 'd:b', x,y4, '-.Xc')\n",
    "plt.show()"
   ]
  },
  {
   "cell_type": "code",
   "execution_count": 45,
   "id": "ee641cd4",
   "metadata": {},
   "outputs": [],
   "source": [
    "x = np.arange(-4.5, 5, 0.5)\n",
    "y = 2*x**3\n",
    "\n",
    "plt.plot(x,y)\n",
    "plt.title('TITLE')\n",
    "plt.xlabel('X-axis')\n",
    "plt.ylabel('Y-axis')\n",
    "plt.grid()"
   ]
  },
  {
   "cell_type": "code",
   "execution_count": 48,
   "id": "6ef5defb",
   "metadata": {},
   "outputs": [],
   "source": [
    "x = np.arange(0, 5, 1)\n",
    "y1 = x\n",
    "y2 = x+1\n",
    "y3 = x+2\n",
    "y4 = x+3\n",
    "\n",
    "plt.plot(x, y1, '>--r', x, y2, 's-g', x,y3, 'd:b', x,y4, '-.Xc')\n",
    "plt.legend((['data1', 'data2', 'data3', 'data4']))\n",
    "plt.show()"
   ]
  },
  {
   "cell_type": "code",
   "execution_count": 51,
   "id": "b764e83f",
   "metadata": {},
   "outputs": [],
   "source": [
    "plt.plot(x, y1, '>--r', x, y2, 's-g', x,y3, 'd:b', x,y4, '-.Xc')\n",
    "plt.legend((['data1', 'data2', 'data3', 'data4']), loc='lower right')\n",
    "plt.show()"
   ]
  },
  {
   "cell_type": "code",
   "execution_count": 53,
   "id": "b7893e16",
   "metadata": {},
   "outputs": [],
   "source": [
    "plt.plot(x, y1, '>--r', x, y2, 's-g', x,y3, 'd:b', x,y4, '-.Xc')\n",
    "plt.legend((['data1', 'data2', 'data3', 'data4']), loc= 4)\n",
    "plt.title('TITLE')\n",
    "plt.xlabel('X-axis')\n",
    "plt.ylabel('Y-axis')\n",
    "plt.grid()"
   ]
  },
  {
   "cell_type": "code",
   "execution_count": 54,
   "id": "41675395",
   "metadata": {},
   "outputs": [],
   "source": [
    "import matplotlib as mpl\n",
    "\n",
    "mpl.rcParams['font.family'] = 'Malgun Gothic'\n",
    "mpl.rcParams['axes.unicode_minus'] = False"
   ]
  },
  {
   "cell_type": "code",
   "execution_count": 56,
   "id": "04522b72",
   "metadata": {},
   "outputs": [],
   "source": [
    "plt.plot(x, y1, '>--r', x, y2, 's-g', x,y3, 'd:b', x,y4, '-.Xc')\n",
    "plt.legend((['데이터1', '데이터2', '데이터3', '데이터4']), loc= 'best')\n",
    "plt.title('제목')\n",
    "plt.xlabel('X축')\n",
    "plt.ylabel('Y축')\n",
    "plt.grid()"
   ]
  },
  {
   "cell_type": "code",
   "execution_count": 59,
   "id": "2d60812c",
   "metadata": {},
   "outputs": [],
   "source": [
    "plt.plot(x, y1, '>--r', x, y2, 's-g', x,y3, 'd:b', x,y4, '-.Xc')\n",
    "plt.text(0, 6, \"문자열 출력\")\n",
    "plt.text(3, 1, \"문자열 출력\")\n",
    "plt.text(2, 1, \"문자열 출력\")\n",
    "plt.text(4, 1, \"문자열 출력\")\n",
    "plt.text(3, 0, \"문자열 출력\")\n",
    "plt.text(3, 2, \"문자열 출력\")\n",
    "plt.show()"
   ]
  },
  {
   "cell_type": "code",
   "execution_count": 61,
   "id": "c78d8bb0",
   "metadata": {},
   "outputs": [],
   "source": [
    "height = [165, 177, 160, 180, 185, 155, 172]\n",
    "weight = [62, 67, 55, 74, 90, 43, 64]\n",
    "\n",
    "plt.scatter(height, weight)\n",
    "plt.xlabel('Height(m)')\n",
    "plt.ylabel('Weight(Kg)')\n",
    "plt.title('Height & Weight')\n",
    "plt.grid()"
   ]
  },
  {
   "cell_type": "code",
   "execution_count": 62,
   "id": "d1a837c8",
   "metadata": {},
   "outputs": [],
   "source": [
    "plt.scatter(height, weight, s=500, c='r')\n",
    "plt.show()"
   ]
  },
  {
   "cell_type": "code",
   "execution_count": 63,
   "id": "1bee8358",
   "metadata": {},
   "outputs": [],
   "source": [
    "size = 100 * np.arange(1,8)\n",
    "color = ['r', 'g', 'b', 'c', 'm', 'k', 'y']\n",
    "\n",
    "plt.scatter(height, weight, s=size, c=color)\n",
    "plt.show()"
   ]
  },
  {
   "cell_type": "code",
   "execution_count": null,
   "id": "f85a6e96",
   "metadata": {},
   "outputs": [],
   "source": [
    "city = ['서울', '인천', '대전', '대구', '울산', ' 부산', '광주']\n",
    "\n",
    "lat = [37.56, 37.45, 36.35, 35.87, 35.53, 35.18, 35.16]\n",
    "lon = [126.97, 126.70, 127.38, 128.60, 129.31, 129.07, 126.85]\n",
    "\n",
    "pop_den = [16154, 2751, 2839, 2790, 1099, 4454, 2995]\n",
    "\n",
    "size = np.array(pop_den)\n",
    "color = ['r', 'g', 'b', 'c', 'm', 'k', 'y']\n",
    "\n",
    "plt.scatter(lon, lat, s=size, c=color)\n",
    "plt.xlabel('경도(longitude)')\n",
    "plt.ylabel('위도(latitude)')\n",
    "plt.title('지역별 인구밀도')\n",
    "\n",
    "for x,y, name in zip(lon, lat, city):\n",
    "    plt.text(x,y, name)\n",
    "\n",
    "plt.show()"
   ]
  },
  {
   "cell_type": "code",
   "execution_count": 69,
   "id": "f35ceb00",
   "metadata": {},
   "outputs": [],
   "source": [
    "member_IDs = ['m_01', 'm_02', 'm_03', 'm_04']\n",
    "before_ex = [27,35,40,33]\n",
    "afer_ex = [30, 38, 42, 37]"
   ]
  },
  {
   "cell_type": "code",
   "execution_count": 71,
   "id": "5caab27d",
   "metadata": {},
   "outputs": [],
   "source": [
    "n_data = len(member_IDs)\n",
    "index = np.arange(n_data)\n",
    "plt.bar(index, before_ex, tick_label = member_IDs)\n",
    "plt.show()"
   ]
  },
  {
   "cell_type": "code",
   "execution_count": 72,
   "id": "5fb06d79",
   "metadata": {},
   "outputs": [],
   "source": [
    "colors = ['r', 'g', 'b', 'm']\n",
    "plt.bar(index, before_ex, tick_label = member_IDs, color= colors)\n",
    "plt.show()"
   ]
  },
  {
   "cell_type": "code",
   "execution_count": 77,
   "id": "77118ce2",
   "metadata": {},
   "outputs": [],
   "source": [
    "colors = ['r', 'g', 'b', 'm']\n",
    "plt.bar(index, before_ex, tick_label = member_IDs, color= colors, width=0.1)\n",
    "plt.show()"
   ]
  },
  {
   "cell_type": "code",
   "execution_count": 79,
   "id": "3ec19d54",
   "metadata": {},
   "outputs": [],
   "source": [
    "colors = ['r', 'g', 'b', 'm']\n",
    "plt.barh(index, before_ex, tick_label = member_IDs, color= colors)\n",
    "plt.show()"
   ]
  },
  {
   "cell_type": "code",
   "execution_count": 84,
   "id": "2bff0279",
   "metadata": {},
   "outputs": [],
   "source": [
    "bwidth = 0.5\n",
    "plt.bar(index, before_ex, tick_label = member_IDs, color= 'c', align='edge', width=bwidth, label='before')\n",
    "plt.bar(index+bwidth, before_ex, tick_label = member_IDs, color= 'm', align='edge', width=bwidth, label='after')\n",
    "\n",
    "plt.xticks(index+bwidth, member_IDs)\n",
    "plt.legend()\n",
    "plt.xlabel('회원 ID')\n",
    "plt.ylabel('윗몸일으키기 횟수')\n",
    "plt.title('운동 시작 전과 후의 변화')\n",
    "plt.show()"
   ]
  },
  {
   "cell_type": "code",
   "execution_count": null,
   "id": "7fa903ac",
   "metadata": {},
   "outputs": [],
   "source": []
  }
 ],
 "metadata": {
  "kernelspec": {
   "display_name": "Python 3 (ipykernel)",
   "language": "python",
   "name": "python3"
  },
  "language_info": {
   "codemirror_mode": {
    "name": "ipython",
    "version": 3
   },
   "file_extension": ".py",
   "mimetype": "text/x-python",
   "name": "python",
   "nbconvert_exporter": "python",
   "pygments_lexer": "ipython3",
   "version": "3.11.4"
  }
 },
 "nbformat": 4,
 "nbformat_minor": 5
}
